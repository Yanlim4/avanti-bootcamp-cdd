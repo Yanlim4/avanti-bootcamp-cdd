{
 "cells": [
  {
   "cell_type": "markdown",
   "metadata": {},
   "source": [
    "# Variáveis e Operadores:"
   ]
  },
  {
   "cell_type": "markdown",
   "metadata": {},
   "source": [
    "## a) Crie um programa que leia dois números inteiros e imprima a soma,subtração, multiplicação e divisão entre eles."
   ]
  },
  {
   "cell_type": "code",
   "execution_count": 6,
   "metadata": {},
   "outputs": [
    {
     "name": "stdout",
     "output_type": "stream",
     "text": [
      "Os números 1 e 2 tem como:\n",
      "Soma: 3,\n",
      "Subtração: -1,\n",
      "Multiplicação: 2,\n",
      "Divisão: 0.5.\n",
      "O raio é 12.566370614359172\n"
     ]
    }
   ],
   "source": [
    "\n",
    "\n",
    "num01 = int(input(\"Digite o 1° Número: \"))\n",
    "num02 = int(input(\"Digite o 2° número: \"))\n",
    "\n",
    "soma = num01 + num02\n",
    "subt = num01 - num02\n",
    "mult = num01 * num02\n",
    "divi = num01 / num02\n",
    "\n",
    "print(f\"Os números {num01} e {num02} tem como:\\nSoma: {soma},\\nSubtração: {subt},\\nMultiplicação: {mult},\\nDivisão: {divi}.\")\n",
    "\n"
   ]
  },
  {
   "cell_type": "markdown",
   "metadata": {},
   "source": [
    "## b) Escreva um programa que calcule a área de um círculo, solicitando a raio do usuário."
   ]
  },
  {
   "cell_type": "code",
   "execution_count": 3,
   "metadata": {},
   "outputs": [
    {
     "name": "stdout",
     "output_type": "stream",
     "text": [
      "O raio é 12.57\n"
     ]
    }
   ],
   "source": [
    "import math\n",
    "\n",
    "raio = float(input(\"Dígite o raio do círculo, para saber a sua área: \"))\n",
    "\n",
    "area = math.pi * raio**2\n",
    "\n",
    "print(f\"O raio é {area:.2f}\")"
   ]
  },
  {
   "cell_type": "markdown",
   "metadata": {},
   "source": [
    "# Estrutura de Seleção e repetição"
   ]
  },
  {
   "cell_type": "markdown",
   "metadata": {},
   "source": [
    "## Escreva um programa que solicite a idade do usuário e imprima se ele é menor de idade(menor que 18 anos) ou maior de idade.\n"
   ]
  },
  {
   "cell_type": "code",
   "execution_count": 4,
   "metadata": {},
   "outputs": [
    {
     "name": "stdout",
     "output_type": "stream",
     "text": [
      "Você é menor de idade!\n"
     ]
    }
   ],
   "source": [
    "idade = int(input(\"Digite sua idade: \"))\n",
    "\n",
    "if idade >= 18:\n",
    "    print(\"Você é maior de idade!\")\n",
    "else:\n",
    "    print(\"Você é menor de idade!\")"
   ]
  },
  {
   "cell_type": "markdown",
   "metadata": {},
   "source": [
    "## b) Crie um programa que peça ao usuário para adivinhar um número secreto entre 1 e 100. O programa deve fornecer dicas se o palpite do usuário é maior ou menor que o número secreto, até que ele adivinhe corretamente."
   ]
  },
  {
   "cell_type": "code",
   "execution_count": null,
   "metadata": {},
   "outputs": [],
   "source": [
    "\n",
    "\n",
    "import random\n",
    "\n",
    "numero_secreto = random.randrange(1, 101)\n",
    "numero_tentativas = 1\n",
    "\n",
    "while True:\n",
    "\n",
    "    numero_escolhido = int(input(f\"Tentativa N° {numero_tentativas}. Digite um Número de 1 a 100: \"))\n",
    "\n",
    "    if numero_escolhido < 1 or numero_escolhido > 100:\n",
    "        print(\"Número digitado é inválido\")\n",
    "        continue\n",
    "         \n",
    "    else:\n",
    "        numero_tentativas += 1\n",
    "\n",
    "        acertou = numero_escolhido == numero_secreto\n",
    "        maior = numero_escolhido > numero_secreto\n",
    "        menor = numero_escolhido < numero_secreto\n",
    "\n",
    "        if acertou:\n",
    "            print(f\"Parabêns você acertou em {numero_tentativas} tentativas! o número secreto é {numero_secreto}\")\n",
    "            break\n",
    "\n",
    "        elif maior:\n",
    "            print(f\"Você Errou! O número escolhido foi maior que o número secreto\")\n",
    "            continue\n",
    "        elif menor:\n",
    "            print(f\"Você Errou! O número escolhido foi menor que o número secreto\")\n",
    "            continue"
   ]
  },
  {
   "cell_type": "markdown",
   "metadata": {},
   "source": [
    "# Coleções (Listas, Tuplas, Conjuntos):"
   ]
  },
  {
   "cell_type": "markdown",
   "metadata": {},
   "source": [
    "## a) Escreva um programa que crie uma lista de 5 números inteiros e imprima os elementos dessa lista."
   ]
  },
  {
   "cell_type": "code",
   "execution_count": 2,
   "metadata": {},
   "outputs": [
    {
     "name": "stdout",
     "output_type": "stream",
     "text": [
      "[56, 47, 76, 77, 60]\n"
     ]
    }
   ],
   "source": [
    "import random\n",
    "lista = []\n",
    "\n",
    "for i in range(5):\n",
    "    numero = random.randrange(1,100+1)\n",
    "    lista.append(numero)\n",
    "\n",
    "print(lista)"
   ]
  },
  {
   "cell_type": "markdown",
   "metadata": {},
   "source": [
    "## b) Crie uma tupla com os nomes de alguns animais. Em seguida, peça ao usuário para digitar o nome de um animal e verifique se ele está presente na tupla."
   ]
  },
  {
   "cell_type": "code",
   "execution_count": 6,
   "metadata": {},
   "outputs": [
    {
     "name": "stdout",
     "output_type": "stream",
     "text": [
      "O rato já esta na tupla!\n"
     ]
    }
   ],
   "source": [
    "tulipa_animais = (\"cachorro\", \"gato\", \"papagaio\", \"rato\", \"cobra\")\n",
    "animal = input(\"Digite o nome de um animal: \").lower()\n",
    "if animal in tulipa_animais:\n",
    "    print(f\"O {animal} já esta na tupla!\")\n",
    "else:\n",
    "    print(f\"O {animal} não esta na tupla!\")"
   ]
  },
  {
   "cell_type": "markdown",
   "metadata": {},
   "source": [
    "# Reutilização de Código (Funções e Módulos):"
   ]
  },
  {
   "cell_type": "markdown",
   "metadata": {},
   "source": [
    "## a) Escreva uma função que receba o nome de uma pessoa como argumento e imprima uma mensagem de saudação."
   ]
  },
  {
   "cell_type": "code",
   "execution_count": 7,
   "metadata": {},
   "outputs": [
    {
     "name": "stdout",
     "output_type": "stream",
     "text": [
      "seja bem vindo(a) Madson\n"
     ]
    }
   ],
   "source": [
    "def saudacao(nome):\n",
    "    print(f\"seja bem vindo(a) {nome}\")\n",
    "\n",
    "saudacao(input(\"Qual seu nome? \"))"
   ]
  },
  {
   "cell_type": "markdown",
   "metadata": {},
   "source": [
    "## b) Implemente um módulo contendo uma função que verifique se um número é primo."
   ]
  },
  {
   "cell_type": "code",
   "execution_count": 16,
   "metadata": {},
   "outputs": [
    {
     "name": "stdout",
     "output_type": "stream",
     "text": [
      "É primo\n"
     ]
    }
   ],
   "source": [
    "from modulo import primo\n",
    "\n",
    "numero = int(input(\"Digite um número inteiro positivo para verificar se ele é primo ou não: \"))\n",
    "\n",
    "primo(n)"
   ]
  }
 ],
 "metadata": {
  "kernelspec": {
   "display_name": "Python 3",
   "language": "python",
   "name": "python3"
  },
  "language_info": {
   "codemirror_mode": {
    "name": "ipython",
    "version": 3
   },
   "file_extension": ".py",
   "mimetype": "text/x-python",
   "name": "python",
   "nbconvert_exporter": "python",
   "pygments_lexer": "ipython3",
   "version": "3.11.5"
  },
  "orig_nbformat": 4
 },
 "nbformat": 4,
 "nbformat_minor": 2
}
